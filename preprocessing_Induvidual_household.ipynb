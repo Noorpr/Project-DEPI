{
 "cells": [
  {
   "cell_type": "code",
   "execution_count": 107,
   "metadata": {},
   "outputs": [
    {
     "name": "stderr",
     "output_type": "stream",
     "text": [
      "<>:1: SyntaxWarning: invalid escape sequence '\\D'\n",
      "<>:1: SyntaxWarning: invalid escape sequence '\\D'\n",
      "C:\\Users\\Lorcan Floran\\AppData\\Local\\Temp\\ipykernel_20084\\3050384269.py:1: SyntaxWarning: invalid escape sequence '\\D'\n",
      "  '''def remove_lines(input_file, output_file, lines_to_remove):\n"
     ]
    },
    {
     "data": {
      "text/plain": [
       "'def remove_lines(input_file, output_file, lines_to_remove):\\n\\n\\n    with open(input_file, \\'r\\', encoding=\\'utf-8\\') as infile, open(output_file, \\'w\\', encoding=\\'utf-8\\') as outfile:\\n        for line_number, line in enumerate(infile, start=1):\\n            if line_number not in lines_to_remove:\\n                outfile.write(line)\\n\\nlines_to_remove = set(range(0, 1048576))\\nremove_lines(r\"C:\\\\DEPI Project\\\\household_power_consumption.txt\", \"output.txt\", lines_to_remove)'"
      ]
     },
     "execution_count": 107,
     "metadata": {},
     "output_type": "execute_result"
    }
   ],
   "source": [
    "'''def remove_lines(input_file, output_file, lines_to_remove):\n",
    "\n",
    "\n",
    "    with open(input_file, 'r', encoding='utf-8') as infile, open(output_file, 'w', encoding='utf-8') as outfile:\n",
    "        for line_number, line in enumerate(infile, start=1):\n",
    "            if line_number not in lines_to_remove:\n",
    "                outfile.write(line)\n",
    "\n",
    "lines_to_remove = set(range(0, 1048576))\n",
    "remove_lines(r\"C:\\DEPI Project\\household_power_consumption.txt\", \"output.txt\", lines_to_remove)'''\n"
   ]
  },
  {
   "cell_type": "code",
   "execution_count": 108,
   "metadata": {},
   "outputs": [
    {
     "name": "stderr",
     "output_type": "stream",
     "text": [
      "C:\\Users\\Lorcan Floran\\AppData\\Local\\Temp\\ipykernel_20084\\3789916690.py:6: DtypeWarning: Columns (2,3,4,5,6,7) have mixed types. Specify dtype option on import or set low_memory=False.\n",
      "  df_2 = pd.read_csv(r\"C:\\DEPI Project\\Individual-household_2.csv\")\n"
     ]
    }
   ],
   "source": [
    "import pandas as pd\n",
    "import numpy as np\n",
    "\n",
    "\n",
    "df_1 = pd.read_csv(r\"C:\\DEPI Project\\Individual-household.csv\")\n",
    "df_2 = pd.read_csv(r\"C:\\DEPI Project\\Individual-household_2.csv\")"
   ]
  },
  {
   "cell_type": "code",
   "execution_count": 109,
   "metadata": {},
   "outputs": [],
   "source": [
    "df_full = pd.concat([df_1, df_2], ignore_index=True)\n"
   ]
  },
  {
   "cell_type": "code",
   "execution_count": 110,
   "metadata": {},
   "outputs": [
    {
     "data": {
      "text/html": [
       "<div>\n",
       "<style scoped>\n",
       "    .dataframe tbody tr th:only-of-type {\n",
       "        vertical-align: middle;\n",
       "    }\n",
       "\n",
       "    .dataframe tbody tr th {\n",
       "        vertical-align: top;\n",
       "    }\n",
       "\n",
       "    .dataframe thead th {\n",
       "        text-align: right;\n",
       "    }\n",
       "</style>\n",
       "<table border=\"1\" class=\"dataframe\">\n",
       "  <thead>\n",
       "    <tr style=\"text-align: right;\">\n",
       "      <th></th>\n",
       "      <th>Date</th>\n",
       "      <th>Time</th>\n",
       "      <th>Global_active_power</th>\n",
       "      <th>Global_reactive_power</th>\n",
       "      <th>Voltage</th>\n",
       "      <th>Global_intensity</th>\n",
       "      <th>Sub_metering_1</th>\n",
       "      <th>Sub_metering_2</th>\n",
       "      <th>Sub_metering_3</th>\n",
       "    </tr>\n",
       "  </thead>\n",
       "  <tbody>\n",
       "    <tr>\n",
       "      <th>0</th>\n",
       "      <td>16/12/2006</td>\n",
       "      <td>17:24:00</td>\n",
       "      <td>4.216</td>\n",
       "      <td>0.418</td>\n",
       "      <td>234.84</td>\n",
       "      <td>18.4</td>\n",
       "      <td>0</td>\n",
       "      <td>1</td>\n",
       "      <td>17.0</td>\n",
       "    </tr>\n",
       "    <tr>\n",
       "      <th>1</th>\n",
       "      <td>16/12/2006</td>\n",
       "      <td>17:25:00</td>\n",
       "      <td>5.36</td>\n",
       "      <td>0.436</td>\n",
       "      <td>233.63</td>\n",
       "      <td>23</td>\n",
       "      <td>0</td>\n",
       "      <td>1</td>\n",
       "      <td>16.0</td>\n",
       "    </tr>\n",
       "    <tr>\n",
       "      <th>2</th>\n",
       "      <td>16/12/2006</td>\n",
       "      <td>17:26:00</td>\n",
       "      <td>5.374</td>\n",
       "      <td>0.498</td>\n",
       "      <td>233.29</td>\n",
       "      <td>23</td>\n",
       "      <td>0</td>\n",
       "      <td>2</td>\n",
       "      <td>17.0</td>\n",
       "    </tr>\n",
       "    <tr>\n",
       "      <th>3</th>\n",
       "      <td>16/12/2006</td>\n",
       "      <td>17:27:00</td>\n",
       "      <td>5.388</td>\n",
       "      <td>0.502</td>\n",
       "      <td>233.74</td>\n",
       "      <td>23</td>\n",
       "      <td>0</td>\n",
       "      <td>1</td>\n",
       "      <td>17.0</td>\n",
       "    </tr>\n",
       "    <tr>\n",
       "      <th>4</th>\n",
       "      <td>16/12/2006</td>\n",
       "      <td>17:28:00</td>\n",
       "      <td>3.666</td>\n",
       "      <td>0.528</td>\n",
       "      <td>235.68</td>\n",
       "      <td>15.8</td>\n",
       "      <td>0</td>\n",
       "      <td>1</td>\n",
       "      <td>17.0</td>\n",
       "    </tr>\n",
       "  </tbody>\n",
       "</table>\n",
       "</div>"
      ],
      "text/plain": [
       "         Date      Time Global_active_power Global_reactive_power Voltage  \\\n",
       "0  16/12/2006  17:24:00               4.216                 0.418  234.84   \n",
       "1  16/12/2006  17:25:00                5.36                 0.436  233.63   \n",
       "2  16/12/2006  17:26:00               5.374                 0.498  233.29   \n",
       "3  16/12/2006  17:27:00               5.388                 0.502  233.74   \n",
       "4  16/12/2006  17:28:00               3.666                 0.528  235.68   \n",
       "\n",
       "  Global_intensity Sub_metering_1 Sub_metering_2  Sub_metering_3  \n",
       "0             18.4              0              1            17.0  \n",
       "1               23              0              1            16.0  \n",
       "2               23              0              2            17.0  \n",
       "3               23              0              1            17.0  \n",
       "4             15.8              0              1            17.0  "
      ]
     },
     "execution_count": 110,
     "metadata": {},
     "output_type": "execute_result"
    }
   ],
   "source": [
    "df_full.head()\n"
   ]
  },
  {
   "cell_type": "code",
   "execution_count": 111,
   "metadata": {},
   "outputs": [
    {
     "name": "stdout",
     "output_type": "stream",
     "text": [
      "<class 'pandas.core.frame.DataFrame'>\n",
      "RangeIndex: 1048575 entries, 0 to 1048574\n",
      "Data columns (total 9 columns):\n",
      " #   Column                 Non-Null Count    Dtype  \n",
      "---  ------                 --------------    -----  \n",
      " 0   Date                   1048575 non-null  object \n",
      " 1   Time                   1048575 non-null  object \n",
      " 2   Global_active_power    1048575 non-null  object \n",
      " 3   Global_reactive_power  1048575 non-null  object \n",
      " 4   Voltage                1048575 non-null  object \n",
      " 5   Global_intensity       1048575 non-null  object \n",
      " 6   Sub_metering_1         1048575 non-null  object \n",
      " 7   Sub_metering_2         1048575 non-null  object \n",
      " 8   Sub_metering_3         1044506 non-null  float64\n",
      "dtypes: float64(1), object(8)\n",
      "memory usage: 72.0+ MB\n",
      "\n",
      "*****************************************************\t*****************************************************\t*****************************************************\n",
      "\n",
      "<class 'pandas.core.frame.DataFrame'>\n",
      "RangeIndex: 1026684 entries, 0 to 1026683\n",
      "Data columns (total 9 columns):\n",
      " #   Column                 Non-Null Count    Dtype  \n",
      "---  ------                 --------------    -----  \n",
      " 0   Date                   1026684 non-null  object \n",
      " 1   Time                   1026684 non-null  object \n",
      " 2   Global_active_power    1026684 non-null  object \n",
      " 3   Global_reactive_power  1026684 non-null  object \n",
      " 4   Voltage                1026684 non-null  object \n",
      " 5   Global_intensity       1026684 non-null  object \n",
      " 6   Sub_metering_1         1026684 non-null  object \n",
      " 7   Sub_metering_2         1026684 non-null  object \n",
      " 8   Sub_metering_3         1004774 non-null  float64\n",
      "dtypes: float64(1), object(8)\n",
      "memory usage: 70.5+ MB\n"
     ]
    }
   ],
   "source": [
    "df_1.info()\n",
    "print(\"\\n*****************************************************\\t*****************************************************\\t*****************************************************\\n\")\n",
    "df_2.info()\n",
    "\n"
   ]
  },
  {
   "cell_type": "code",
   "execution_count": 112,
   "metadata": {},
   "outputs": [],
   "source": [
    "columns_to_convert = ['Global_active_power', 'Global_reactive_power', 'Voltage', \n",
    "                      'Global_intensity', 'Sub_metering_1', 'Sub_metering_2']\n",
    "\n",
    "df_full[columns_to_convert] = df_full[columns_to_convert].apply(pd.to_numeric, errors='coerce')\n"
   ]
  },
  {
   "cell_type": "code",
   "execution_count": 113,
   "metadata": {},
   "outputs": [
    {
     "data": {
      "text/html": [
       "<div>\n",
       "<style scoped>\n",
       "    .dataframe tbody tr th:only-of-type {\n",
       "        vertical-align: middle;\n",
       "    }\n",
       "\n",
       "    .dataframe tbody tr th {\n",
       "        vertical-align: top;\n",
       "    }\n",
       "\n",
       "    .dataframe thead th {\n",
       "        text-align: right;\n",
       "    }\n",
       "</style>\n",
       "<table border=\"1\" class=\"dataframe\">\n",
       "  <thead>\n",
       "    <tr style=\"text-align: right;\">\n",
       "      <th></th>\n",
       "      <th>Date</th>\n",
       "      <th>Time</th>\n",
       "      <th>Global_active_power</th>\n",
       "      <th>Global_reactive_power</th>\n",
       "      <th>apparent_power</th>\n",
       "      <th>power_factor</th>\n",
       "    </tr>\n",
       "  </thead>\n",
       "  <tbody>\n",
       "    <tr>\n",
       "      <th>0</th>\n",
       "      <td>16/12/2006</td>\n",
       "      <td>17:24:00</td>\n",
       "      <td>4.216</td>\n",
       "      <td>0.418</td>\n",
       "      <td>4.236671</td>\n",
       "      <td>0.995121</td>\n",
       "    </tr>\n",
       "    <tr>\n",
       "      <th>1</th>\n",
       "      <td>16/12/2006</td>\n",
       "      <td>17:25:00</td>\n",
       "      <td>5.360</td>\n",
       "      <td>0.436</td>\n",
       "      <td>5.377704</td>\n",
       "      <td>0.996708</td>\n",
       "    </tr>\n",
       "    <tr>\n",
       "      <th>2</th>\n",
       "      <td>16/12/2006</td>\n",
       "      <td>17:26:00</td>\n",
       "      <td>5.374</td>\n",
       "      <td>0.498</td>\n",
       "      <td>5.397025</td>\n",
       "      <td>0.995734</td>\n",
       "    </tr>\n",
       "    <tr>\n",
       "      <th>3</th>\n",
       "      <td>16/12/2006</td>\n",
       "      <td>17:27:00</td>\n",
       "      <td>5.388</td>\n",
       "      <td>0.502</td>\n",
       "      <td>5.411335</td>\n",
       "      <td>0.995688</td>\n",
       "    </tr>\n",
       "    <tr>\n",
       "      <th>4</th>\n",
       "      <td>16/12/2006</td>\n",
       "      <td>17:28:00</td>\n",
       "      <td>3.666</td>\n",
       "      <td>0.528</td>\n",
       "      <td>3.703828</td>\n",
       "      <td>0.989787</td>\n",
       "    </tr>\n",
       "  </tbody>\n",
       "</table>\n",
       "</div>"
      ],
      "text/plain": [
       "         Date      Time  Global_active_power  Global_reactive_power  \\\n",
       "0  16/12/2006  17:24:00                4.216                  0.418   \n",
       "1  16/12/2006  17:25:00                5.360                  0.436   \n",
       "2  16/12/2006  17:26:00                5.374                  0.498   \n",
       "3  16/12/2006  17:27:00                5.388                  0.502   \n",
       "4  16/12/2006  17:28:00                3.666                  0.528   \n",
       "\n",
       "   apparent_power  power_factor  \n",
       "0        4.236671      0.995121  \n",
       "1        5.377704      0.996708  \n",
       "2        5.397025      0.995734  \n",
       "3        5.411335      0.995688  \n",
       "4        3.703828      0.989787  "
      ]
     },
     "execution_count": 113,
     "metadata": {},
     "output_type": "execute_result"
    }
   ],
   "source": [
    "\n",
    "\n",
    "df_full[\"apparent_power\"] = np.sqrt(df_full[\"Global_active_power\"]**2 + df_full[\"Global_reactive_power\"]**2)\n",
    "\n",
    "\n",
    "df_full[\"power_factor\"] = df_full[\"Global_active_power\"] / df_full[\"apparent_power\"]\n",
    "\n",
    "df_full[[\"Date\", \"Time\", \"Global_active_power\", \"Global_reactive_power\", \"apparent_power\", \"power_factor\"]].head()\n"
   ]
  },
  {
   "cell_type": "code",
   "execution_count": 114,
   "metadata": {},
   "outputs": [
    {
     "data": {
      "text/html": [
       "<div>\n",
       "<style scoped>\n",
       "    .dataframe tbody tr th:only-of-type {\n",
       "        vertical-align: middle;\n",
       "    }\n",
       "\n",
       "    .dataframe tbody tr th {\n",
       "        vertical-align: top;\n",
       "    }\n",
       "\n",
       "    .dataframe thead th {\n",
       "        text-align: right;\n",
       "    }\n",
       "</style>\n",
       "<table border=\"1\" class=\"dataframe\">\n",
       "  <thead>\n",
       "    <tr style=\"text-align: right;\">\n",
       "      <th></th>\n",
       "      <th>Date</th>\n",
       "      <th>Time</th>\n",
       "      <th>Global_active_power</th>\n",
       "      <th>Global_reactive_power</th>\n",
       "      <th>apparent_power</th>\n",
       "      <th>power_factor</th>\n",
       "      <th>Energy_kWh</th>\n",
       "      <th>Energy_kWh_cummlative</th>\n",
       "    </tr>\n",
       "  </thead>\n",
       "  <tbody>\n",
       "    <tr>\n",
       "      <th>0</th>\n",
       "      <td>16/12/2006</td>\n",
       "      <td>17:24:00</td>\n",
       "      <td>4.216</td>\n",
       "      <td>0.418</td>\n",
       "      <td>4.236671</td>\n",
       "      <td>0.995121</td>\n",
       "      <td>0.070267</td>\n",
       "      <td>0.070267</td>\n",
       "    </tr>\n",
       "    <tr>\n",
       "      <th>1</th>\n",
       "      <td>16/12/2006</td>\n",
       "      <td>17:25:00</td>\n",
       "      <td>5.360</td>\n",
       "      <td>0.436</td>\n",
       "      <td>5.377704</td>\n",
       "      <td>0.996708</td>\n",
       "      <td>0.089333</td>\n",
       "      <td>0.159600</td>\n",
       "    </tr>\n",
       "    <tr>\n",
       "      <th>2</th>\n",
       "      <td>16/12/2006</td>\n",
       "      <td>17:26:00</td>\n",
       "      <td>5.374</td>\n",
       "      <td>0.498</td>\n",
       "      <td>5.397025</td>\n",
       "      <td>0.995734</td>\n",
       "      <td>0.089567</td>\n",
       "      <td>0.249167</td>\n",
       "    </tr>\n",
       "    <tr>\n",
       "      <th>3</th>\n",
       "      <td>16/12/2006</td>\n",
       "      <td>17:27:00</td>\n",
       "      <td>5.388</td>\n",
       "      <td>0.502</td>\n",
       "      <td>5.411335</td>\n",
       "      <td>0.995688</td>\n",
       "      <td>0.089800</td>\n",
       "      <td>0.338967</td>\n",
       "    </tr>\n",
       "    <tr>\n",
       "      <th>4</th>\n",
       "      <td>16/12/2006</td>\n",
       "      <td>17:28:00</td>\n",
       "      <td>3.666</td>\n",
       "      <td>0.528</td>\n",
       "      <td>3.703828</td>\n",
       "      <td>0.989787</td>\n",
       "      <td>0.061100</td>\n",
       "      <td>0.400067</td>\n",
       "    </tr>\n",
       "  </tbody>\n",
       "</table>\n",
       "</div>"
      ],
      "text/plain": [
       "         Date      Time  Global_active_power  Global_reactive_power  \\\n",
       "0  16/12/2006  17:24:00                4.216                  0.418   \n",
       "1  16/12/2006  17:25:00                5.360                  0.436   \n",
       "2  16/12/2006  17:26:00                5.374                  0.498   \n",
       "3  16/12/2006  17:27:00                5.388                  0.502   \n",
       "4  16/12/2006  17:28:00                3.666                  0.528   \n",
       "\n",
       "   apparent_power  power_factor  Energy_kWh  Energy_kWh_cummlative  \n",
       "0        4.236671      0.995121    0.070267               0.070267  \n",
       "1        5.377704      0.996708    0.089333               0.159600  \n",
       "2        5.397025      0.995734    0.089567               0.249167  \n",
       "3        5.411335      0.995688    0.089800               0.338967  \n",
       "4        3.703828      0.989787    0.061100               0.400067  "
      ]
     },
     "execution_count": 114,
     "metadata": {},
     "output_type": "execute_result"
    }
   ],
   "source": [
    "df_full[\"Energy_kWh\"] = df_full[\"Global_active_power\"] / 60  \n",
    "\n",
    "\n",
    "df_full[\"Energy_kWh_cummlative\"] = df_full.groupby(\"Date\")[\"Energy_kWh\"].cumsum()\n",
    "\n",
    "\n",
    "\n",
    "df_full[[\"Date\", \"Time\", \"Global_active_power\", \"Global_reactive_power\", \"apparent_power\", \"power_factor\",\"Energy_kWh\",\"Energy_kWh_cummlative\"]].head()\n"
   ]
  },
  {
   "cell_type": "code",
   "execution_count": 115,
   "metadata": {},
   "outputs": [
    {
     "name": "stdout",
     "output_type": "stream",
     "text": [
      "<class 'pandas.core.frame.DataFrame'>\n",
      "RangeIndex: 2075259 entries, 0 to 2075258\n",
      "Data columns (total 13 columns):\n",
      " #   Column                 Dtype  \n",
      "---  ------                 -----  \n",
      " 0   Date                   object \n",
      " 1   Time                   object \n",
      " 2   Global_active_power    float64\n",
      " 3   Global_reactive_power  float64\n",
      " 4   Voltage                float64\n",
      " 5   Global_intensity       float64\n",
      " 6   Sub_metering_1         float64\n",
      " 7   Sub_metering_2         float64\n",
      " 8   Sub_metering_3         float64\n",
      " 9   apparent_power         float64\n",
      " 10  power_factor           float64\n",
      " 11  Energy_kWh             float64\n",
      " 12  Energy_kWh_cummlative  float64\n",
      "dtypes: float64(11), object(2)\n",
      "memory usage: 205.8+ MB\n"
     ]
    }
   ],
   "source": [
    "df_full.info()\n",
    "\n",
    "\n"
   ]
  },
  {
   "cell_type": "code",
   "execution_count": 116,
   "metadata": {},
   "outputs": [
    {
     "data": {
      "text/plain": [
       "Index(['Date', 'Time', 'Global_active_power', 'Global_reactive_power',\n",
       "       'Voltage', 'Global_intensity', 'Sub_metering_1', 'Sub_metering_2',\n",
       "       'Sub_metering_3', 'apparent_power', 'power_factor', 'Energy_kWh',\n",
       "       'Energy_kWh_cummlative'],\n",
       "      dtype='object')"
      ]
     },
     "execution_count": 116,
     "metadata": {},
     "output_type": "execute_result"
    }
   ],
   "source": [
    "df_full.columns"
   ]
  },
  {
   "cell_type": "code",
   "execution_count": 117,
   "metadata": {},
   "outputs": [],
   "source": [
    "\n",
    "\n",
    "df_full['Datetime'] = pd.to_datetime(df_full['Date'] + ' ' + df_full['Time'], format='%d/%m/%Y %H:%M:%S')\n",
    "\n",
    "df_full.set_index('Datetime', inplace=True)\n",
    "\n",
    "\n",
    "df_resampled = df_full.resample('15min').asfreq()\n",
    "\n",
    "df_full.reset_index(inplace=True)\n",
    "df_resampled.drop(columns=[\"Sub_metering_1\",\"Sub_metering_2\",\"Sub_metering_3\"], inplace=True)\n",
    "df_resampled=df_resampled.dropna()\n",
    "df_resampled.to_csv(\"resampled_15min_data.csv\", index=False)\n",
    "\n"
   ]
  },
  {
   "cell_type": "code",
   "execution_count": 118,
   "metadata": {},
   "outputs": [
    {
     "data": {
      "text/plain": [
       "Index(['Date', 'Time', 'Global_active_power', 'Global_reactive_power',\n",
       "       'Voltage', 'Global_intensity', 'apparent_power', 'power_factor',\n",
       "       'Energy_kWh', 'Energy_kWh_cummlative'],\n",
       "      dtype='object')"
      ]
     },
     "execution_count": 118,
     "metadata": {},
     "output_type": "execute_result"
    }
   ],
   "source": [
    "df_resampled.columns\n"
   ]
  }
 ],
 "metadata": {
  "kernelspec": {
   "display_name": "Python 3",
   "language": "python",
   "name": "python3"
  },
  "language_info": {
   "codemirror_mode": {
    "name": "ipython",
    "version": 3
   },
   "file_extension": ".py",
   "mimetype": "text/x-python",
   "name": "python",
   "nbconvert_exporter": "python",
   "pygments_lexer": "ipython3",
   "version": "3.13.0"
  }
 },
 "nbformat": 4,
 "nbformat_minor": 2
}
